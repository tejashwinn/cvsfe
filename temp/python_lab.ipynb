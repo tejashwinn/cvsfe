{
 "cells": [
  {
   "cell_type": "code",
   "execution_count": 1,
   "source": [
    "# To take inputs from the user\r\n",
    "x = input('Enter value of x: ')\r\n",
    "y = input('Enter value of y: ')\r\n",
    "\r\n",
    "# create a temporary variable and swap the values\r\n",
    "temp = x\r\n",
    "x = y\r\n",
    "y = temp\r\n",
    "\r\n",
    "print('The value of x after swapping: {}'.format(x))\r\n",
    "print('The value of y after swapping: {}'.format(y))"
   ],
   "outputs": [
    {
     "output_type": "stream",
     "name": "stdout",
     "text": [
      "The value of x after swapping: 123\n",
      "The value of y after swapping: 12\n"
     ]
    }
   ],
   "metadata": {}
  },
  {
   "cell_type": "code",
   "execution_count": 2,
   "source": [
    "# To take input from the user\r\n",
    "num = int(input(\"Enter a number: \"))\r\n",
    "\r\n",
    "# define a flag variable\r\n",
    "flag = False\r\n",
    "\r\n",
    "# prime numbers are greater than 1\r\n",
    "if num > 1:\r\n",
    "    # check for factors\r\n",
    "    for i in range(2, num):\r\n",
    "        if (num % i) == 0:\r\n",
    "            # if factor is found, set flag to True\r\n",
    "            flag = True\r\n",
    "            # break out of loop\r\n",
    "            break\r\n",
    "\r\n",
    "# check if flag is True\r\n",
    "if flag:\r\n",
    "    print(num, \"is not a prime number\")\r\n",
    "else:\r\n",
    "    print(num, \"is a prime number\")\r\n"
   ],
   "outputs": [
    {
     "output_type": "stream",
     "name": "stdout",
     "text": [
      "123 is not a prime number\n"
     ]
    }
   ],
   "metadata": {}
  },
  {
   "cell_type": "code",
   "execution_count": 4,
   "source": [
    "# Sum of natural numbers up to num\r\n",
    "# To take input from the user\r\n",
    "num = int(input(\"Enter a number: \"))\r\n",
    "if num < 0:\r\n",
    "   print(\"Enter a positive number\")\r\n",
    "else:\r\n",
    "   sum = 0\r\n",
    "   # use while loop to iterate until zero\r\n",
    "   while(num > 0):\r\n",
    "       sum += num\r\n",
    "       num -= 1\r\n",
    "   print(\"The sum is\", sum)\r\n"
   ],
   "outputs": [
    {
     "output_type": "stream",
     "name": "stdout",
     "text": [
      "The sum is 78\n"
     ]
    }
   ],
   "metadata": {}
  },
  {
   "cell_type": "code",
   "execution_count": 5,
   "source": [
    "num1 = float(input(\"Enter first number: \"))\r\n",
    "num2 = float(input(\"Enter second number: \"))\r\n",
    "num3 = float(input(\"Enter third number: \"))\r\n",
    "if (num1 >= num2) and (num1 >= num3):\r\n",
    "   largest = num1\r\n",
    "elif (num2 >= num1) and (num2 >= num3):\r\n",
    "   largest = num2\r\n",
    "else:\r\n",
    "   largest = num3\r\n",
    "\r\n",
    "print(\"The largest number is\", largest)\r\n"
   ],
   "outputs": [
    {
     "output_type": "stream",
     "name": "stdout",
     "text": [
      "The largest number is 1298.0\n"
     ]
    }
   ],
   "metadata": {}
  },
  {
   "cell_type": "code",
   "execution_count": 6,
   "source": [
    "# Program to display the Fibonacci sequence up to n-th term\r\n",
    "nterms = int(input(\"How many terms? \"))\r\n",
    "# first two terms\r\n",
    "n1, n2 = 0, 1\r\n",
    "count = 0\r\n",
    "# check if the number of terms is valid\r\n",
    "if nterms <= 0:\r\n",
    "   print(\"Please enter a positive integer\")\r\n",
    "# if there is only one term, return n1\r\n",
    "elif nterms == 1:\r\n",
    "   print(\"Fibonacci sequence upto\", nterms, \":\")\r\n",
    "   print(n1)\r\n",
    "# generate fibonacci sequence\r\n",
    "else:\r\n",
    "   print(\"Fibonacci sequence:\")\r\n",
    "   while count < nterms:\r\n",
    "       print(n1)\r\n",
    "       nth = n1 + n2\r\n",
    "       # update values\r\n",
    "       n1 = n2\r\n",
    "       n2 = nth\r\n",
    "       count += 1\r\n"
   ],
   "outputs": [
    {
     "output_type": "stream",
     "name": "stdout",
     "text": [
      "Fibonacci sequence:\n",
      "0\n",
      "1\n",
      "1\n",
      "2\n",
      "3\n",
      "5\n",
      "8\n",
      "13\n",
      "21\n",
      "34\n",
      "55\n",
      "89\n"
     ]
    }
   ],
   "metadata": {}
  },
  {
   "cell_type": "code",
   "execution_count": 7,
   "source": [
    "number = int(input(\" Please Enter any Positive Integer : \"))\r\n",
    "if((number % 5 == 0) and (number % 11 == 0)):\r\n",
    "    print(\"Given Number {0} is Divisible by 5 and 11\".format(number))\r\n",
    "else:\r\n",
    "    print(\"Given Number {0} is Not Divisible by 5 and 11\".format(number))\r\n"
   ],
   "outputs": [
    {
     "output_type": "stream",
     "name": "stdout",
     "text": [
      "Given Number 122 is Not Divisible by 5 and 11\n"
     ]
    }
   ],
   "metadata": {}
  },
  {
   "cell_type": "code",
   "execution_count": 9,
   "source": [
    "import math\r\n",
    "\r\n",
    "a = int(input(\"Please Enter a Value of a Quadratic Equation : \"))\r\n",
    "b = int(input(\"Please Enter b Value of a Quadratic Equation : \"))\r\n",
    "c = int(input(\"Please Enter c Value of a Quadratic Equation : \"))\r\n",
    "\r\n",
    "discriminant = (b * b) - (4 * a * c)\r\n",
    "\r\n",
    "if(discriminant > 0):\r\n",
    "    root1 = (-b + math.sqrt(discriminant) / (2 * a))\r\n",
    "    root2 = (-b - math.sqrt(discriminant) / (2 * a))\r\n",
    "    print(\"Two Distinct Real Roots Exists: root1 = %.2f and root2 = %.2f\" %\r\n",
    "          (root1, root2))\r\n",
    "elif(discriminant == 0):\r\n",
    "    root1 = root2 = -b / (2 * a)\r\n",
    "    print(\"Two Equal and Real Roots Exists: root1 = %.2f and root2 = %.2f\" %\r\n",
    "          (root1, root2))\r\n",
    "elif(discriminant < 0):\r\n",
    "    root1 = root2 = -b / (2 * a)\r\n",
    "    imaginary = math.sqrt(-discriminant) / (2 * a)\r\n",
    "    print(\"Two Distinct Complex Roots Exists: root1 = %.2f+%.2f and root2 = %.2f-%.2f\" %\r\n",
    "          (root1, imaginary, root2, imaginary))\r\n"
   ],
   "outputs": [
    {
     "output_type": "stream",
     "name": "stdout",
     "text": [
      "Two Distinct Complex Roots Exists: root1 = -0.17+0.37 and root2 = -0.17-0.37\n"
     ]
    }
   ],
   "metadata": {}
  },
  {
   "cell_type": "code",
   "execution_count": 10,
   "source": [
    "princ_amount = float(input(\" Please Enter the Principal Amount : \"))\r\n",
    "rate_of_int = float(input(\" Please Enter the Rate Of Interest   : \"))\r\n",
    "time_period = float(input(\" Please Enter Time period in Years   : \"))\r\n",
    "\r\n",
    "simple_interest = (princ_amount * rate_of_int * time_period) / 100\r\n",
    "\r\n",
    "print(\"\\nSimple Interest for Principal Amount {0} = {1}\".format(\r\n",
    "    princ_amount, simple_interest))"
   ],
   "outputs": [
    {
     "output_type": "stream",
     "name": "stdout",
     "text": [
      "\n",
      "Simple Interest for Principal Amount 100.0 = 40.0\n"
     ]
    }
   ],
   "metadata": {}
  },
  {
   "cell_type": "code",
   "execution_count": 12,
   "source": [
    "number = int(input(\"Please Enter any Number: \"))\r\n",
    "reverse = 0\r\n",
    "temp = number\r\n",
    "while(temp > 0):\r\n",
    "    Reminder = temp % 10\r\n",
    "    reverse = (reverse * 10) + Reminder\r\n",
    "    temp = temp // 10\r\n",
    "\r\n",
    "print(\"Reverse of a Given number is = %d\" % reverse)\r\n",
    "\r\n",
    "if(number == reverse):\r\n",
    "    print(\"%d is a Palindrome Number\" % number)\r\n",
    "else:\r\n",
    "    print(\"%d is not a Palindrome Number\" % number)\r\n"
   ],
   "outputs": [
    {
     "output_type": "stream",
     "name": "stdout",
     "text": [
      "Reverse of a Given number is = 1021201\n",
      "1021201 is a Palindrome Number\n"
     ]
    }
   ],
   "metadata": {}
  },
  {
   "cell_type": "code",
   "execution_count": 13,
   "source": [
    "from datetime import date\r\n",
    "f_date = date(2014, 7, 2)\r\n",
    "l_date = date(2014, 7, 11)\r\n",
    "delta = l_date - f_date\r\n",
    "print(delta.days)\r\n"
   ],
   "outputs": [
    {
     "output_type": "stream",
     "name": "stdout",
     "text": [
      "9\n"
     ]
    }
   ],
   "metadata": {}
  },
  {
   "cell_type": "code",
   "execution_count": 14,
   "source": [
    "n = int(input(\"Enter number: \"))\r\n",
    "rev = 0\r\n",
    "while(n > 0):\r\n",
    "    dig = n % 10\r\n",
    "    rev = rev*10+dig\r\n",
    "    n = n//10\r\n",
    "print(\"Reverse of the number:\", rev)\r\n"
   ],
   "outputs": [
    {
     "output_type": "stream",
     "name": "stdout",
     "text": [
      "Reverse of the number: 91\n"
     ]
    }
   ],
   "metadata": {}
  },
  {
   "cell_type": "code",
   "execution_count": 15,
   "source": [
    "nl = []\r\n",
    "for x in range(1500, 2701):\r\n",
    "    if (x % 7 == 0) and (x % 5 == 0):\r\n",
    "        nl.append(str(x))\r\n",
    "print(','.join(nl))\r\n"
   ],
   "outputs": [
    {
     "output_type": "stream",
     "name": "stdout",
     "text": [
      "1505,1540,1575,1610,1645,1680,1715,1750,1785,1820,1855,1890,1925,1960,1995,2030,2065,2100,2135,2170,2205,2240,2275,2310,2345,2380,2415,2450,2485,2520,2555,2590,2625,2660,2695\n"
     ]
    }
   ],
   "metadata": {}
  },
  {
   "cell_type": "code",
   "execution_count": 16,
   "source": [
    "rows = int(input(\"Please Enter the Total Number of Rows  : \"))\r\n",
    "print(\"Right Angled Triangle Star Pattern\")\r\n",
    "for i in range(1, rows + 1):\r\n",
    "    for j in range(1, i + 1):\r\n",
    "        print('*', end='  ')\r\n",
    "    print()\r\n"
   ],
   "outputs": [
    {
     "output_type": "stream",
     "name": "stdout",
     "text": [
      "Right Angled Triangle Star Pattern\n",
      "*  \n",
      "*  *  \n",
      "*  *  *  \n",
      "*  *  *  *  \n",
      "*  *  *  *  *  \n",
      "*  *  *  *  *  *  \n",
      "*  *  *  *  *  *  *  \n",
      "*  *  *  *  *  *  *  *  \n",
      "*  *  *  *  *  *  *  *  *  \n",
      "*  *  *  *  *  *  *  *  *  *  \n"
     ]
    }
   ],
   "metadata": {}
  },
  {
   "cell_type": "code",
   "execution_count": 22,
   "source": [
    "from math import factorial\r\n",
    " # input n\r\n",
    "n = int(input(\"Enter how many rows:\"))\r\n",
    "for i in range(n):\r\n",
    "    for j in range(n-i+1):\r\n",
    "         # for left spacing\r\n",
    "        print(end=\" \")\r\n",
    "    for j in range(i+1):\r\n",
    "         # nCr = n!/((n-r)!*r!)\r\n",
    "        print(factorial(i)//(factorial(j)*factorial(i-j)), end=\" \")\r\n",
    "     # for new line\r\n",
    "    print()"
   ],
   "outputs": [
    {
     "output_type": "stream",
     "name": "stdout",
     "text": [
      "           1 \n",
      "          1 1 \n",
      "         1 2 1 \n",
      "        1 3 3 1 \n",
      "       1 4 6 4 1 \n",
      "      1 5 10 10 5 1 \n",
      "     1 6 15 20 15 6 1 \n",
      "    1 7 21 35 35 21 7 1 \n",
      "   1 8 28 56 70 56 28 8 1 \n",
      "  1 9 36 84 126 126 84 36 9 1 \n"
     ]
    }
   ],
   "metadata": {}
  },
  {
   "cell_type": "code",
   "execution_count": 23,
   "source": [
    "units = int(input(\" Please enter Number of Units you Consumed : \"))\r\n",
    "if(units < 50):\r\n",
    "    amount = units * 2.60\r\n",
    "    surcharge = 25\r\n",
    "elif(units <= 100):\r\n",
    "    amount = 130 + ((units - 50) * 3.25)\r\n",
    "    surcharge = 35\r\n",
    "elif(units <= 200):\r\n",
    "    amount = 130 + 162.50 + ((units - 100) * 5.26)\r\n",
    "    surcharge = 45\r\n",
    "else:\r\n",
    "    amount = 130 + 162.50 + 526 + ((units - 200) * 8.45)\r\n",
    "    surcharge = 75\r\n",
    "total = amount + surcharge\r\n",
    "print(\"\\nElectricity Bill = %.2f\" % total)\r\n"
   ],
   "outputs": [
    {
     "output_type": "stream",
     "name": "stdout",
     "text": [
      "\n",
      "Electricity Bill = 51.00\n"
     ]
    }
   ],
   "metadata": {}
  },
  {
   "cell_type": "code",
   "execution_count": 24,
   "source": [
    "number = int(input(\r\n",
    "    \"Enter the number of which the user wants to print the multiplication table: \"))\r\n",
    "# We are using \"for loop\" to iterate the multiplication 10 times\r\n",
    "print(\"The Multiplication Table of: \", number)\r\n",
    "for count in range(1, 11):\r\n",
    "       print(number, 'x', count, '=', number * count)\r\n"
   ],
   "outputs": [
    {
     "output_type": "stream",
     "name": "stdout",
     "text": [
      "The Multiplication Table of:  10\n",
      "10 x 1 = 10\n",
      "10 x 2 = 20\n",
      "10 x 3 = 30\n",
      "10 x 4 = 40\n",
      "10 x 5 = 50\n",
      "10 x 6 = 60\n",
      "10 x 7 = 70\n",
      "10 x 8 = 80\n",
      "10 x 9 = 90\n",
      "10 x 10 = 100\n"
     ]
    }
   ],
   "metadata": {}
  },
  {
   "cell_type": "code",
   "execution_count": 25,
   "source": [
    "num = int(input(\"Please enter any integer to find divisors = \"))\r\n",
    "\r\n",
    "print(\"The Divisors of the Number = \")\r\n",
    "\r\n",
    "for i in range(1, num + 1):\r\n",
    "    if num % i == 0:\r\n",
    "        print(i)\r\n"
   ],
   "outputs": [
    {
     "output_type": "stream",
     "name": "stdout",
     "text": [
      "The Divisors of the Number = \n",
      "1\n",
      "2\n",
      "5\n",
      "10\n"
     ]
    }
   ],
   "metadata": {}
  },
  {
   "cell_type": "code",
   "execution_count": 27,
   "source": [
    "english = float(input(\" Please enter English Marks: \"))\r\n",
    "math = float(input(\" Please enter Math score: \"))\r\n",
    "computers = float(input(\" Please enter Computer Marks: \"))\r\n",
    "physics = float(input(\" Please enter Physics Marks: \"))\r\n",
    "chemistry = float(input(\" Please enter Chemistry Marks: \"))\r\n",
    "\r\n",
    "total = english + math + computers + physics + chemistry\r\n",
    "percentage = (total / 500) * 100\r\n",
    "\r\n",
    "print(\"Total Marks = %.2f\" % total)\r\n",
    "print(\"Marks Percentage = %.2f\" % percentage)\r\n",
    "\r\n",
    "if(percentage >= 90):\r\n",
    "    print(\"S Grade\")\r\n",
    "elif(percentage >= 80):\r\n",
    "    print(\"A Grade\")\r\n",
    "elif(percentage >= 70):\r\n",
    "    print(\"B Grade\")\r\n",
    "elif(percentage >= 60):\r\n",
    "    print(\"CGrade\")\r\n",
    "elif(percentage >= 50):\r\n",
    "    print(\"D Grade\")\r\n",
    "elif(percentage >= 40):\r\n",
    "    print(\"E Grade\")\r\n",
    "else:\r\n",
    "    print(\"Fail\")\r\n"
   ],
   "outputs": [
    {
     "output_type": "stream",
     "name": "stdout",
     "text": [
      "Total Marks = 305.00\n",
      "Marks Percentage = 61.00\n",
      "CGrade\n"
     ]
    }
   ],
   "metadata": {}
  },
  {
   "cell_type": "code",
   "execution_count": 28,
   "source": [
    "actual_cost = float(input(\" Please Enter the Actual Product Price: \"))\r\n",
    "sale_amount = float(input(\" Please Enter the Sales Amount: \"))\r\n",
    "\r\n",
    "if(actual_cost > sale_amount):\r\n",
    "    amount = actual_cost - sale_amount\r\n",
    "    print(\"Total Loss Amount = {0}\".format(amount))\r\n",
    "elif(sale_amount > actual_cost):\r\n",
    "    amount = sale_amount - actual_cost\r\n",
    "    print(\"Total Profit = {0}\".format(amount))\r\n",
    "else:\r\n",
    "    print(\"No Profit No Loss!!!\")\r\n"
   ],
   "outputs": [
    {
     "output_type": "stream",
     "name": "stdout",
     "text": [
      "Total Loss Amount = 663.0\n"
     ]
    }
   ],
   "metadata": {}
  },
  {
   "cell_type": "code",
   "execution_count": 29,
   "source": [
    "Number = int(input(\" Please Enter any Number: \"))\r\n",
    "Sum = 0\r\n",
    "for i in range(1, Number):\r\n",
    "    if(Number % i == 0):\r\n",
    "        Sum = Sum + i\r\n",
    "if (Sum == Number):\r\n",
    "    print(\" %d is a Perfect Number\" % Number)\r\n",
    "else:\r\n",
    "    print(\" %d is not a Perfect Number\" % Number)\r\n"
   ],
   "outputs": [
    {
     "output_type": "stream",
     "name": "stdout",
     "text": [
      " 1231 is not a Perfect Number\n"
     ]
    }
   ],
   "metadata": {}
  },
  {
   "cell_type": "code",
   "execution_count": 30,
   "source": [
    "def swap(a, b):\r\n",
    "    c = a\r\n",
    "    a = b\r\n",
    "    b = c\r\n",
    "    print(\"a=\", a)\r\n",
    "    print(\"b=\", b)\r\n",
    "\r\n",
    "\r\n",
    "a = int(input(\"Enter first number\"))\r\n",
    "b = int(input(\"Enter second number\"))\r\n",
    "swap(a, b)\r\n"
   ],
   "outputs": [
    {
     "output_type": "stream",
     "name": "stdout",
     "text": [
      "a= 98\n",
      "b= 12312\n"
     ]
    }
   ],
   "metadata": {}
  },
  {
   "cell_type": "code",
   "execution_count": 31,
   "source": [
    "def prime(no):\r\n",
    "    no = int(no)\r\n",
    "    n = int(no/2)\r\n",
    "    flag = 0\r\n",
    "    for i in range(2, n):\r\n",
    "        if no % i == 0:\r\n",
    "            flag += 1\r\n",
    "        else:\r\n",
    "            continue\r\n",
    "    if flag > 0:\r\n",
    "        print(\"This is not prime\")\r\n",
    "    else:\r\n",
    "        print(\"Prime\")\r\n",
    "\r\n",
    "\r\n",
    "no = input(\"Enter a no\")\r\n",
    "prime(no)\r\n"
   ],
   "outputs": [
    {
     "output_type": "stream",
     "name": "stdout",
     "text": [
      "This is not prime\n"
     ]
    }
   ],
   "metadata": {}
  },
  {
   "cell_type": "code",
   "execution_count": 32,
   "source": [
    "#Function Definition\r\n",
    "def sum(n):\r\n",
    "    sum = 0\r\n",
    "    for i in range(1, n):\r\n",
    "        sum += i\r\n",
    "    print(sum)\r\n",
    "\r\n",
    "\r\n",
    "n = int(input(\"Enter n\"))\r\n",
    "sum(n)  # Function Calling with one Argument\r\n"
   ],
   "outputs": [
    {
     "output_type": "stream",
     "name": "stdout",
     "text": [
      "10\n"
     ]
    }
   ],
   "metadata": {}
  },
  {
   "cell_type": "code",
   "execution_count": 35,
   "source": [
    "def great(a, b, c):\r\n",
    "    if a > b and a > c:\r\n",
    "        print(\"A is greatest\")\r\n",
    "    elif b > c:\r\n",
    "        print(\"B is greatest\")\r\n",
    "    else:\r\n",
    "        print(\"C is greatest\")\r\n",
    "\r\n",
    "\r\n",
    "a = input(\"Enter first no\")\r\n",
    "b = input(\"Enter 2nd no\")\r\n",
    "c = input(\"Enter 3rd no\")\r\n",
    "great(a, b, c)\r\n"
   ],
   "outputs": [
    {
     "output_type": "stream",
     "name": "stdout",
     "text": [
      "C is greatest\n"
     ]
    }
   ],
   "metadata": {}
  },
  {
   "cell_type": "code",
   "execution_count": 38,
   "source": [
    "f1 = 0\r\n",
    "f2 = 1\r\n",
    "print(f1)\r\n",
    "print(f2)\r\n",
    "n = int(input(\"enter n\"))\r\n",
    "for i in range(1, n):\r\n",
    "    f = f1+f2\r\n",
    "    print(f)\r\n",
    "    f1 = f2\r\n",
    "    f2 = f\r\n",
    "\r\n",
    "# fib(n1)\r\n"
   ],
   "outputs": [
    {
     "output_type": "stream",
     "name": "stdout",
     "text": [
      "0\n",
      "1\n",
      "1\n",
      "2\n",
      "3\n",
      "5\n",
      "8\n",
      "13\n",
      "21\n",
      "34\n",
      "55\n"
     ]
    }
   ],
   "metadata": {}
  },
  {
   "cell_type": "code",
   "execution_count": 39,
   "source": [
    "def fact(n):\r\n",
    "    f = 1\r\n",
    "    for i in range(1, n+1):\r\n",
    "        f *= i\r\n",
    "    print(f)\r\n",
    "\r\n",
    "\r\n",
    "n = int(input(\"enter n\"))\r\n",
    "fact(n)\r\n"
   ],
   "outputs": [
    {
     "output_type": "stream",
     "name": "stdout",
     "text": [
      "479001600\n"
     ]
    }
   ],
   "metadata": {}
  },
  {
   "cell_type": "code",
   "execution_count": 40,
   "source": [
    "x = int(input(\"Enter row number=\"))\r\n",
    "for i in range(x):\r\n",
    "    for j in range(1, i+1):\r\n",
    "        print(j, end=' ')\r\n",
    "    print(\"\")\r\n"
   ],
   "outputs": [
    {
     "output_type": "stream",
     "name": "stdout",
     "text": [
      "\n",
      "1 \n",
      "1 2 \n",
      "1 2 3 \n",
      "1 2 3 4 \n",
      "1 2 3 4 5 \n",
      "1 2 3 4 5 6 \n",
      "1 2 3 4 5 6 7 \n",
      "1 2 3 4 5 6 7 8 \n",
      "1 2 3 4 5 6 7 8 9 \n"
     ]
    }
   ],
   "metadata": {}
  },
  {
   "cell_type": "code",
   "execution_count": 41,
   "source": [
    "def arm(num):\r\n",
    "    sum = 0\r\n",
    "    # find the sum of the cube of each digit\r\n",
    "    temp = num\r\n",
    "    while temp > 0:\r\n",
    "        digit = temp % 10\r\n",
    "        sum += digit ** 3\r\n",
    "        temp //= 10\r\n",
    "    return sum\r\n",
    "\r\n",
    "\r\n",
    "# take input from the user\r\n",
    "num = int(input(\"Enter a number: \"))\r\n",
    "\r\n",
    "# Function calling\r\n",
    "sum = arm(num)\r\n",
    "# display the result based on returned value from the function\r\n",
    "if num == sum:\r\n",
    "   print(num, \"is an Armstrong number\")\r\n",
    "else:\r\n",
    "       print(num, \"is not an Armstrong number\")\r\n"
   ],
   "outputs": [
    {
     "output_type": "stream",
     "name": "stdout",
     "text": [
      "12 is not an Armstrong number\n"
     ]
    }
   ],
   "metadata": {}
  },
  {
   "cell_type": "code",
   "execution_count": 43,
   "source": [
    "def strong(num):\r\n",
    "    sum = 0\r\n",
    "    temp = num\r\n",
    "    while(num):\r\n",
    "        i = 1\r\n",
    "        fact = 1\r\n",
    "        rem = num % 10\r\n",
    "        while(i <= rem):\r\n",
    "            fact = fact*i   # Find factorial of each number\r\n",
    "            i = i+1\r\n",
    "        sum = sum+fact\r\n",
    "        num = num//10\r\n",
    "    if(sum == temp):\r\n",
    "        print(\"Given number is a strong number\")\r\n",
    "    else:\r\n",
    "        print(\"Given number is not a strong number\")\r\n",
    "\r\n",
    "strong(100)"
   ],
   "outputs": [
    {
     "output_type": "stream",
     "name": "stdout",
     "text": [
      "Given number is not a strong number\n"
     ]
    }
   ],
   "metadata": {}
  },
  {
   "cell_type": "code",
   "execution_count": 44,
   "source": [
    "import math\r\n",
    "def roots(a,b,c):\r\n",
    "    d = (b * b) - (4 * a * c)\r\n",
    "    if(d > 0):\r\n",
    "        root1 = (-b + math.sqrt(d) / (2 * a))\r\n",
    "        root2 = (-b - math.sqrt(d) / (2 * a))\r\n",
    "        print(\"Two Distinct Real Roots Exists: root1 = %.2f and root2 = %.2f\" %(root1, root2))\r\n",
    "    elif(d == 0):\r\n",
    "        root1 = root2 = -b / (2 * a)\r\n",
    "        print(\"Two Equal and Real Roots Exists: root1 = %.2f and root2 = %.2f\" %(root1, root2))\r\n",
    "    elif(d < 0):\r\n",
    "        root1 = root2 = -b / (2 * a)\r\n",
    "        imaginary = math.sqrt(-d) / (2 * a)\r\n",
    "        print(\"Two Distinct Complex Roots Exists: root1 = %.2f+%.2f and root2 = %.2f-%.2f\" %(root1, imaginary, root2, imaginary))\r\n",
    "        \r\n",
    "a = int(input(\"Please Enter a Value of a Quadratic Equation : \"))\r\n",
    "b = int(input(\"Please Enter b Value of a Quadratic Equation : \"))\r\n",
    "c = int(input(\"Please Enter c Value of a Quadratic Equation : \"))\r\n",
    "roots(a,b,c)"
   ],
   "outputs": [
    {
     "output_type": "stream",
     "name": "stdout",
     "text": [
      "Two Distinct Real Roots Exists: root1 = -11.60 and root2 = -12.40\n"
     ]
    }
   ],
   "metadata": {}
  },
  {
   "cell_type": "code",
   "execution_count": null,
   "source": [],
   "outputs": [],
   "metadata": {}
  },
  {
   "cell_type": "code",
   "execution_count": null,
   "source": [],
   "outputs": [],
   "metadata": {}
  },
  {
   "cell_type": "code",
   "execution_count": null,
   "source": [],
   "outputs": [],
   "metadata": {}
  },
  {
   "cell_type": "code",
   "execution_count": null,
   "source": [],
   "outputs": [],
   "metadata": {}
  },
  {
   "cell_type": "code",
   "execution_count": null,
   "source": [],
   "outputs": [],
   "metadata": {}
  },
  {
   "cell_type": "code",
   "execution_count": null,
   "source": [],
   "outputs": [],
   "metadata": {}
  },
  {
   "cell_type": "code",
   "execution_count": null,
   "source": [],
   "outputs": [],
   "metadata": {}
  },
  {
   "cell_type": "code",
   "execution_count": null,
   "source": [],
   "outputs": [],
   "metadata": {}
  },
  {
   "cell_type": "code",
   "execution_count": null,
   "source": [],
   "outputs": [],
   "metadata": {}
  }
 ],
 "metadata": {
  "orig_nbformat": 4,
  "language_info": {
   "name": "python",
   "version": "3.9.6",
   "mimetype": "text/x-python",
   "codemirror_mode": {
    "name": "ipython",
    "version": 3
   },
   "pygments_lexer": "ipython3",
   "nbconvert_exporter": "python",
   "file_extension": ".py"
  },
  "kernelspec": {
   "name": "python3",
   "display_name": "Python 3.9.6 64-bit"
  },
  "interpreter": {
   "hash": "e2e7150d6fef36d5f82e9d43d35d088b66b4d59dae97ad4a61af3cc04b096018"
  }
 },
 "nbformat": 4,
 "nbformat_minor": 2
}